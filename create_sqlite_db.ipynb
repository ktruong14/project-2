{
 "cells": [
  {
   "cell_type": "markdown",
   "metadata": {},
   "source": [
    "# create SQLite DB for country_info"
   ]
  },
  {
   "cell_type": "code",
   "execution_count": 11,
   "metadata": {},
   "outputs": [
    {
     "name": "stdout",
     "output_type": "stream",
     "text": [
      "2.6.0\n"
     ]
    }
   ],
   "source": [
    "import sqlite3\n",
    "from sqlite3 import Error\n",
    "\n",
    "\n",
    "def create_connection(db_file):\n",
    "    \"\"\" create a database connection to a SQLite database \"\"\"\n",
    "    conn = None\n",
    "    try:\n",
    "        conn = sqlite3.connect(db_file)\n",
    "        print(sqlite3.version)\n",
    "    except Error as e:\n",
    "        print(e)\n",
    "    finally:\n",
    "        if conn:\n",
    "            conn.close()\n",
    "\n",
    "\n",
    "if __name__ == '__main__':\n",
    "    create_connection(r\"C:\\Users\\sasit\\OneDrive\\Desktop\\Data_Coursework\\Project\\project-2\\sqlite_db\\countries_info_sqlite.db\")"
   ]
  },
  {
   "cell_type": "code",
   "execution_count": 12,
   "metadata": {},
   "outputs": [],
   "source": [
    "# SQL Alchemy\n",
    "from sqlalchemy import create_engine\n",
    "database_path = \"..\\project-2\\sqlite_db\\countries_info_sqlite.db\"\n"
   ]
  },
  {
   "cell_type": "code",
   "execution_count": 13,
   "metadata": {},
   "outputs": [],
   "source": [
    "# Create Engine\n",
    "engine = create_engine(f\"sqlite:///{database_path}\")"
   ]
  },
  {
   "cell_type": "code",
   "execution_count": 14,
   "metadata": {},
   "outputs": [],
   "source": [
    "def create_table(conn, create_table_sql):\n",
    "    \"\"\" create a table from the create_table_sql statement\n",
    "    :param conn: Connection object\n",
    "    :param create_table_sql: a CREATE TABLE statement\n",
    "    :return:\n",
    "    \"\"\"\n",
    "    try:\n",
    "        c = conn.cursor()\n",
    "        c.execute(create_table_sql)\n",
    "    except Error as e:\n",
    "        print(e)"
   ]
  },
  {
   "cell_type": "code",
   "execution_count": 15,
   "metadata": {},
   "outputs": [],
   "source": [
    "def main():\n",
    "    sql_create_spotify_rankings = \"\"\" CREATE TABLE IF NOT EXISTS spotify_rankings (\n",
    "    country text PRIMARY KEY,\n",
    "    song_title text,\n",
    "    artist text,\n",
    "    streams integer,\n",
    "    rank integer\n",
    "    ); \"\"\"\n",
    "    sql_create_ramen_rankings =  \"\"\" CREATE TABLE IF NOT EXISTS ramen_rankings (\n",
    "    country text PRIMARY KEY,\n",
    "    brand text,\n",
    "    variety text,\n",
    "    stars integer\n",
    "    );\"\"\"\n",
    "    sql_create_uni_rankings =  \"\"\" CREATE TABLE IF NOT EXISTS uni_rankings (\n",
    "    country text PRIMARY KEY,\n",
    "    institution text,\n",
    "    national_rank integer\n",
    "    );\"\"\"\n",
    "    sql_create_country_codes =  \"\"\" CREATE TABLE IF NOT EXISTS country_codes (\n",
    "    country text PRIMARY KEY,\n",
    "    alpha_2 text,\n",
    "    alpha_3 text\n",
    "    );\"\"\"\n",
    "\n",
    "    # create a database connection\n",
    "    conn = create_connection(database_path)\n",
    "\n",
    "    # create tables\n",
    "    if conn is not None:\n",
    "        # create spotify table\n",
    "        create_table(conn, sql_create_spotify_rankings)\n",
    "\n",
    "        # create ramen table\n",
    "        create_table(conn, sql_create_ramen_rankings)\n",
    "        \n",
    "        # create uni table\n",
    "        create_table(conn, sql_create_uni_rankings)\n",
    "\n",
    "        # create country table\n",
    "        create_table(conn, sql_create_country_codes)        \n",
    "        \n",
    "        \n",
    "    else:\n",
    "        print(\"Error! cannot create the database connection.\")\n",
    "        if __name__ == '__main__':\n",
    "            main()"
   ]
  },
  {
   "cell_type": "code",
   "execution_count": null,
   "metadata": {},
   "outputs": [],
   "source": []
  },
  {
   "cell_type": "code",
   "execution_count": null,
   "metadata": {},
   "outputs": [],
   "source": []
  }
 ],
 "metadata": {
  "kernelspec": {
   "display_name": "Python 3",
   "language": "python",
   "name": "python3"
  },
  "language_info": {
   "codemirror_mode": {
    "name": "ipython",
    "version": 3
   },
   "file_extension": ".py",
   "mimetype": "text/x-python",
   "name": "python",
   "nbconvert_exporter": "python",
   "pygments_lexer": "ipython3",
   "version": "3.7.6"
  }
 },
 "nbformat": 4,
 "nbformat_minor": 4
}
